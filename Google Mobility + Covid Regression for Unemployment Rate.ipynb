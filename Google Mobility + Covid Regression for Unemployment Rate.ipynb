{
 "cells": [
  {
   "cell_type": "markdown",
   "metadata": {},
   "source": [
    "## Imports"
   ]
  },
  {
   "cell_type": "code",
   "execution_count": 1,
   "metadata": {},
   "outputs": [],
   "source": [
    "from plot_utils import *\n",
    "\n",
    "import pandas as pd\n",
    "import matplotlib.pylab as plt\n",
    "import numpy as np\n",
    "from sklearn.linear_model import LinearRegression\n",
    "from sklearn.linear_model import LogisticRegression\n",
    "from sklearn.linear_model import Lasso\n",
    "from sklearn.linear_model import Ridge\n",
    "\n",
    "\n",
    "from sklearn import datasets\n",
    "\n",
    "from sklearn.model_selection import train_test_split\n",
    "\n",
    "import math\n",
    "\n",
    "import seaborn as sn"
   ]
  },
  {
   "cell_type": "markdown",
   "metadata": {},
   "source": [
    "## Read Population Data"
   ]
  },
  {
   "cell_type": "code",
   "execution_count": 2,
   "metadata": {},
   "outputs": [],
   "source": [
    "us_pop = pd.read_csv('2019_US_Pop.csv')"
   ]
  },
  {
   "cell_type": "markdown",
   "metadata": {},
   "source": [
    "## Google Mobility Data"
   ]
  },
  {
   "cell_type": "code",
   "execution_count": 3,
   "metadata": {},
   "outputs": [],
   "source": [
    "global_mobility = pd.read_csv('Global_Mobility_Report.csv', low_memory=False)\n",
    "usa_mobility = global_mobility[global_mobility['country_region_code'] == 'US']\n",
    "\n",
    "usa_mobility = usa_mobility.rename(columns={'sub_region_1': 'state'})"
   ]
  },
  {
   "cell_type": "code",
   "execution_count": 4,
   "metadata": {},
   "outputs": [],
   "source": [
    "unneeded = ['country_region_code', 'country_region', 'sub_region_2', 'metro_area', 'iso_3166_2_code','census_fips_code']\n",
    "\n",
    "for field in unneeded:\n",
    "    usa_mobility.pop(field)\n",
    "    \n",
    "usa_mobility = usa_mobility[usa_mobility['state'].notna()]"
   ]
  },
  {
   "cell_type": "code",
   "execution_count": 5,
   "metadata": {},
   "outputs": [
    {
     "data": {
      "text/html": [
       "<div>\n",
       "<style scoped>\n",
       "    .dataframe tbody tr th:only-of-type {\n",
       "        vertical-align: middle;\n",
       "    }\n",
       "\n",
       "    .dataframe tbody tr th {\n",
       "        vertical-align: top;\n",
       "    }\n",
       "\n",
       "    .dataframe thead th {\n",
       "        text-align: right;\n",
       "    }\n",
       "</style>\n",
       "<table border=\"1\" class=\"dataframe\">\n",
       "  <thead>\n",
       "    <tr style=\"text-align: right;\">\n",
       "      <th></th>\n",
       "      <th>state</th>\n",
       "      <th>date</th>\n",
       "      <th>retail_and_recreation_percent_change_from_baseline</th>\n",
       "      <th>grocery_and_pharmacy_percent_change_from_baseline</th>\n",
       "      <th>parks_percent_change_from_baseline</th>\n",
       "      <th>transit_stations_percent_change_from_baseline</th>\n",
       "      <th>workplaces_percent_change_from_baseline</th>\n",
       "      <th>residential_percent_change_from_baseline</th>\n",
       "    </tr>\n",
       "  </thead>\n",
       "  <tbody>\n",
       "    <tr>\n",
       "      <th>1329714</th>\n",
       "      <td>Alabama</td>\n",
       "      <td>2020-02</td>\n",
       "      <td>5.0</td>\n",
       "      <td>2.0</td>\n",
       "      <td>39.0</td>\n",
       "      <td>7.0</td>\n",
       "      <td>2.0</td>\n",
       "      <td>-1.0</td>\n",
       "    </tr>\n",
       "    <tr>\n",
       "      <th>1329715</th>\n",
       "      <td>Alabama</td>\n",
       "      <td>2020-02</td>\n",
       "      <td>0.0</td>\n",
       "      <td>-2.0</td>\n",
       "      <td>-7.0</td>\n",
       "      <td>3.0</td>\n",
       "      <td>-1.0</td>\n",
       "      <td>1.0</td>\n",
       "    </tr>\n",
       "    <tr>\n",
       "      <th>1329716</th>\n",
       "      <td>Alabama</td>\n",
       "      <td>2020-02</td>\n",
       "      <td>3.0</td>\n",
       "      <td>0.0</td>\n",
       "      <td>17.0</td>\n",
       "      <td>7.0</td>\n",
       "      <td>-17.0</td>\n",
       "      <td>4.0</td>\n",
       "    </tr>\n",
       "    <tr>\n",
       "      <th>1329717</th>\n",
       "      <td>Alabama</td>\n",
       "      <td>2020-02</td>\n",
       "      <td>-4.0</td>\n",
       "      <td>-3.0</td>\n",
       "      <td>-11.0</td>\n",
       "      <td>-1.0</td>\n",
       "      <td>1.0</td>\n",
       "      <td>2.0</td>\n",
       "    </tr>\n",
       "    <tr>\n",
       "      <th>1329718</th>\n",
       "      <td>Alabama</td>\n",
       "      <td>2020-02</td>\n",
       "      <td>4.0</td>\n",
       "      <td>1.0</td>\n",
       "      <td>6.0</td>\n",
       "      <td>4.0</td>\n",
       "      <td>1.0</td>\n",
       "      <td>0.0</td>\n",
       "    </tr>\n",
       "    <tr>\n",
       "      <th>...</th>\n",
       "      <td>...</td>\n",
       "      <td>...</td>\n",
       "      <td>...</td>\n",
       "      <td>...</td>\n",
       "      <td>...</td>\n",
       "      <td>...</td>\n",
       "      <td>...</td>\n",
       "      <td>...</td>\n",
       "    </tr>\n",
       "    <tr>\n",
       "      <th>1812809</th>\n",
       "      <td>Wyoming</td>\n",
       "      <td>2020-08</td>\n",
       "      <td>NaN</td>\n",
       "      <td>NaN</td>\n",
       "      <td>NaN</td>\n",
       "      <td>NaN</td>\n",
       "      <td>-27.0</td>\n",
       "      <td>NaN</td>\n",
       "    </tr>\n",
       "    <tr>\n",
       "      <th>1812810</th>\n",
       "      <td>Wyoming</td>\n",
       "      <td>2020-08</td>\n",
       "      <td>NaN</td>\n",
       "      <td>NaN</td>\n",
       "      <td>NaN</td>\n",
       "      <td>NaN</td>\n",
       "      <td>-22.0</td>\n",
       "      <td>NaN</td>\n",
       "    </tr>\n",
       "    <tr>\n",
       "      <th>1812811</th>\n",
       "      <td>Wyoming</td>\n",
       "      <td>2020-08</td>\n",
       "      <td>NaN</td>\n",
       "      <td>NaN</td>\n",
       "      <td>NaN</td>\n",
       "      <td>NaN</td>\n",
       "      <td>-24.0</td>\n",
       "      <td>NaN</td>\n",
       "    </tr>\n",
       "    <tr>\n",
       "      <th>1812812</th>\n",
       "      <td>Wyoming</td>\n",
       "      <td>2020-08</td>\n",
       "      <td>NaN</td>\n",
       "      <td>NaN</td>\n",
       "      <td>NaN</td>\n",
       "      <td>NaN</td>\n",
       "      <td>-24.0</td>\n",
       "      <td>NaN</td>\n",
       "    </tr>\n",
       "    <tr>\n",
       "      <th>1812813</th>\n",
       "      <td>Wyoming</td>\n",
       "      <td>2020-08</td>\n",
       "      <td>NaN</td>\n",
       "      <td>NaN</td>\n",
       "      <td>NaN</td>\n",
       "      <td>NaN</td>\n",
       "      <td>-27.0</td>\n",
       "      <td>NaN</td>\n",
       "    </tr>\n",
       "  </tbody>\n",
       "</table>\n",
       "<p>483100 rows × 8 columns</p>\n",
       "</div>"
      ],
      "text/plain": [
       "           state     date  retail_and_recreation_percent_change_from_baseline  \\\n",
       "1329714  Alabama  2020-02                                                5.0    \n",
       "1329715  Alabama  2020-02                                                0.0    \n",
       "1329716  Alabama  2020-02                                                3.0    \n",
       "1329717  Alabama  2020-02                                               -4.0    \n",
       "1329718  Alabama  2020-02                                                4.0    \n",
       "...          ...      ...                                                ...    \n",
       "1812809  Wyoming  2020-08                                                NaN    \n",
       "1812810  Wyoming  2020-08                                                NaN    \n",
       "1812811  Wyoming  2020-08                                                NaN    \n",
       "1812812  Wyoming  2020-08                                                NaN    \n",
       "1812813  Wyoming  2020-08                                                NaN    \n",
       "\n",
       "         grocery_and_pharmacy_percent_change_from_baseline  \\\n",
       "1329714                                                2.0   \n",
       "1329715                                               -2.0   \n",
       "1329716                                                0.0   \n",
       "1329717                                               -3.0   \n",
       "1329718                                                1.0   \n",
       "...                                                    ...   \n",
       "1812809                                                NaN   \n",
       "1812810                                                NaN   \n",
       "1812811                                                NaN   \n",
       "1812812                                                NaN   \n",
       "1812813                                                NaN   \n",
       "\n",
       "         parks_percent_change_from_baseline  \\\n",
       "1329714                                39.0   \n",
       "1329715                                -7.0   \n",
       "1329716                                17.0   \n",
       "1329717                               -11.0   \n",
       "1329718                                 6.0   \n",
       "...                                     ...   \n",
       "1812809                                 NaN   \n",
       "1812810                                 NaN   \n",
       "1812811                                 NaN   \n",
       "1812812                                 NaN   \n",
       "1812813                                 NaN   \n",
       "\n",
       "         transit_stations_percent_change_from_baseline  \\\n",
       "1329714                                            7.0   \n",
       "1329715                                            3.0   \n",
       "1329716                                            7.0   \n",
       "1329717                                           -1.0   \n",
       "1329718                                            4.0   \n",
       "...                                                ...   \n",
       "1812809                                            NaN   \n",
       "1812810                                            NaN   \n",
       "1812811                                            NaN   \n",
       "1812812                                            NaN   \n",
       "1812813                                            NaN   \n",
       "\n",
       "         workplaces_percent_change_from_baseline  \\\n",
       "1329714                                      2.0   \n",
       "1329715                                     -1.0   \n",
       "1329716                                    -17.0   \n",
       "1329717                                      1.0   \n",
       "1329718                                      1.0   \n",
       "...                                          ...   \n",
       "1812809                                    -27.0   \n",
       "1812810                                    -22.0   \n",
       "1812811                                    -24.0   \n",
       "1812812                                    -24.0   \n",
       "1812813                                    -27.0   \n",
       "\n",
       "         residential_percent_change_from_baseline  \n",
       "1329714                                      -1.0  \n",
       "1329715                                       1.0  \n",
       "1329716                                       4.0  \n",
       "1329717                                       2.0  \n",
       "1329718                                       0.0  \n",
       "...                                           ...  \n",
       "1812809                                       NaN  \n",
       "1812810                                       NaN  \n",
       "1812811                                       NaN  \n",
       "1812812                                       NaN  \n",
       "1812813                                       NaN  \n",
       "\n",
       "[483100 rows x 8 columns]"
      ]
     },
     "execution_count": 5,
     "metadata": {},
     "output_type": "execute_result"
    }
   ],
   "source": [
    "usa_mobility['date'] = usa_mobility['date'].map(pd.to_datetime)\n",
    "dates_to_month_str(usa_mobility)\n",
    "usa_mobility"
   ]
  },
  {
   "cell_type": "code",
   "execution_count": 6,
   "metadata": {},
   "outputs": [
    {
     "data": {
      "text/html": [
       "<div>\n",
       "<style scoped>\n",
       "    .dataframe tbody tr th:only-of-type {\n",
       "        vertical-align: middle;\n",
       "    }\n",
       "\n",
       "    .dataframe tbody tr th {\n",
       "        vertical-align: top;\n",
       "    }\n",
       "\n",
       "    .dataframe thead th {\n",
       "        text-align: right;\n",
       "    }\n",
       "</style>\n",
       "<table border=\"1\" class=\"dataframe\">\n",
       "  <thead>\n",
       "    <tr style=\"text-align: right;\">\n",
       "      <th></th>\n",
       "      <th></th>\n",
       "      <th>retail_and_recreation_percent_change_from_baseline</th>\n",
       "      <th>grocery_and_pharmacy_percent_change_from_baseline</th>\n",
       "      <th>parks_percent_change_from_baseline</th>\n",
       "      <th>transit_stations_percent_change_from_baseline</th>\n",
       "      <th>workplaces_percent_change_from_baseline</th>\n",
       "      <th>residential_percent_change_from_baseline</th>\n",
       "    </tr>\n",
       "    <tr>\n",
       "      <th>state</th>\n",
       "      <th>date</th>\n",
       "      <th></th>\n",
       "      <th></th>\n",
       "      <th></th>\n",
       "      <th></th>\n",
       "      <th></th>\n",
       "      <th></th>\n",
       "    </tr>\n",
       "  </thead>\n",
       "  <tbody>\n",
       "    <tr>\n",
       "      <th rowspan=\"5\" valign=\"top\">Alabama</th>\n",
       "      <th>2020-02</th>\n",
       "      <td>5.004608</td>\n",
       "      <td>-0.298429</td>\n",
       "      <td>12.599078</td>\n",
       "      <td>6.449231</td>\n",
       "      <td>-0.043944</td>\n",
       "      <td>0.291498</td>\n",
       "    </tr>\n",
       "    <tr>\n",
       "      <th>2020-03</th>\n",
       "      <td>-6.888827</td>\n",
       "      <td>6.332132</td>\n",
       "      <td>20.586375</td>\n",
       "      <td>-3.152493</td>\n",
       "      <td>-11.712020</td>\n",
       "      <td>5.016393</td>\n",
       "    </tr>\n",
       "    <tr>\n",
       "      <th>2020-04</th>\n",
       "      <td>-27.670348</td>\n",
       "      <td>-1.923012</td>\n",
       "      <td>3.710462</td>\n",
       "      <td>-26.964387</td>\n",
       "      <td>-33.469239</td>\n",
       "      <td>14.047445</td>\n",
       "    </tr>\n",
       "    <tr>\n",
       "      <th>2020-05</th>\n",
       "      <td>-6.477370</td>\n",
       "      <td>8.660637</td>\n",
       "      <td>36.619632</td>\n",
       "      <td>-6.299854</td>\n",
       "      <td>-24.902001</td>\n",
       "      <td>8.838235</td>\n",
       "    </tr>\n",
       "    <tr>\n",
       "      <th>2020-06</th>\n",
       "      <td>-1.270361</td>\n",
       "      <td>6.496705</td>\n",
       "      <td>44.950000</td>\n",
       "      <td>4.349158</td>\n",
       "      <td>-20.877947</td>\n",
       "      <td>6.487778</td>\n",
       "    </tr>\n",
       "    <tr>\n",
       "      <th>...</th>\n",
       "      <th>...</th>\n",
       "      <td>...</td>\n",
       "      <td>...</td>\n",
       "      <td>...</td>\n",
       "      <td>...</td>\n",
       "      <td>...</td>\n",
       "      <td>...</td>\n",
       "    </tr>\n",
       "    <tr>\n",
       "      <th rowspan=\"5\" valign=\"top\">Wyoming</th>\n",
       "      <th>2020-04</th>\n",
       "      <td>-34.505017</td>\n",
       "      <td>-8.355263</td>\n",
       "      <td>-0.776860</td>\n",
       "      <td>-10.286275</td>\n",
       "      <td>-33.250000</td>\n",
       "      <td>13.713514</td>\n",
       "    </tr>\n",
       "    <tr>\n",
       "      <th>2020-05</th>\n",
       "      <td>-8.718644</td>\n",
       "      <td>7.165714</td>\n",
       "      <td>53.236364</td>\n",
       "      <td>3.737410</td>\n",
       "      <td>-25.006745</td>\n",
       "      <td>8.301020</td>\n",
       "    </tr>\n",
       "    <tr>\n",
       "      <th>2020-06</th>\n",
       "      <td>11.122324</td>\n",
       "      <td>20.786982</td>\n",
       "      <td>156.206897</td>\n",
       "      <td>22.855513</td>\n",
       "      <td>-19.431271</td>\n",
       "      <td>3.865741</td>\n",
       "    </tr>\n",
       "    <tr>\n",
       "      <th>2020-07</th>\n",
       "      <td>20.284058</td>\n",
       "      <td>27.491429</td>\n",
       "      <td>236.488889</td>\n",
       "      <td>33.003650</td>\n",
       "      <td>-22.564060</td>\n",
       "      <td>3.187215</td>\n",
       "    </tr>\n",
       "    <tr>\n",
       "      <th>2020-08</th>\n",
       "      <td>20.816993</td>\n",
       "      <td>24.717949</td>\n",
       "      <td>244.454545</td>\n",
       "      <td>39.418033</td>\n",
       "      <td>-20.970149</td>\n",
       "      <td>2.360000</td>\n",
       "    </tr>\n",
       "  </tbody>\n",
       "</table>\n",
       "<p>357 rows × 6 columns</p>\n",
       "</div>"
      ],
      "text/plain": [
       "                 retail_and_recreation_percent_change_from_baseline  \\\n",
       "state   date                                                          \n",
       "Alabama 2020-02                                           5.004608    \n",
       "        2020-03                                          -6.888827    \n",
       "        2020-04                                         -27.670348    \n",
       "        2020-05                                          -6.477370    \n",
       "        2020-06                                          -1.270361    \n",
       "...                                                            ...    \n",
       "Wyoming 2020-04                                         -34.505017    \n",
       "        2020-05                                          -8.718644    \n",
       "        2020-06                                          11.122324    \n",
       "        2020-07                                          20.284058    \n",
       "        2020-08                                          20.816993    \n",
       "\n",
       "                 grocery_and_pharmacy_percent_change_from_baseline  \\\n",
       "state   date                                                         \n",
       "Alabama 2020-02                                          -0.298429   \n",
       "        2020-03                                           6.332132   \n",
       "        2020-04                                          -1.923012   \n",
       "        2020-05                                           8.660637   \n",
       "        2020-06                                           6.496705   \n",
       "...                                                            ...   \n",
       "Wyoming 2020-04                                          -8.355263   \n",
       "        2020-05                                           7.165714   \n",
       "        2020-06                                          20.786982   \n",
       "        2020-07                                          27.491429   \n",
       "        2020-08                                          24.717949   \n",
       "\n",
       "                 parks_percent_change_from_baseline  \\\n",
       "state   date                                          \n",
       "Alabama 2020-02                           12.599078   \n",
       "        2020-03                           20.586375   \n",
       "        2020-04                            3.710462   \n",
       "        2020-05                           36.619632   \n",
       "        2020-06                           44.950000   \n",
       "...                                             ...   \n",
       "Wyoming 2020-04                           -0.776860   \n",
       "        2020-05                           53.236364   \n",
       "        2020-06                          156.206897   \n",
       "        2020-07                          236.488889   \n",
       "        2020-08                          244.454545   \n",
       "\n",
       "                 transit_stations_percent_change_from_baseline  \\\n",
       "state   date                                                     \n",
       "Alabama 2020-02                                       6.449231   \n",
       "        2020-03                                      -3.152493   \n",
       "        2020-04                                     -26.964387   \n",
       "        2020-05                                      -6.299854   \n",
       "        2020-06                                       4.349158   \n",
       "...                                                        ...   \n",
       "Wyoming 2020-04                                     -10.286275   \n",
       "        2020-05                                       3.737410   \n",
       "        2020-06                                      22.855513   \n",
       "        2020-07                                      33.003650   \n",
       "        2020-08                                      39.418033   \n",
       "\n",
       "                 workplaces_percent_change_from_baseline  \\\n",
       "state   date                                               \n",
       "Alabama 2020-02                                -0.043944   \n",
       "        2020-03                               -11.712020   \n",
       "        2020-04                               -33.469239   \n",
       "        2020-05                               -24.902001   \n",
       "        2020-06                               -20.877947   \n",
       "...                                                  ...   \n",
       "Wyoming 2020-04                               -33.250000   \n",
       "        2020-05                               -25.006745   \n",
       "        2020-06                               -19.431271   \n",
       "        2020-07                               -22.564060   \n",
       "        2020-08                               -20.970149   \n",
       "\n",
       "                 residential_percent_change_from_baseline  \n",
       "state   date                                               \n",
       "Alabama 2020-02                                  0.291498  \n",
       "        2020-03                                  5.016393  \n",
       "        2020-04                                 14.047445  \n",
       "        2020-05                                  8.838235  \n",
       "        2020-06                                  6.487778  \n",
       "...                                                   ...  \n",
       "Wyoming 2020-04                                 13.713514  \n",
       "        2020-05                                  8.301020  \n",
       "        2020-06                                  3.865741  \n",
       "        2020-07                                  3.187215  \n",
       "        2020-08                                  2.360000  \n",
       "\n",
       "[357 rows x 6 columns]"
      ]
     },
     "execution_count": 6,
     "metadata": {},
     "output_type": "execute_result"
    }
   ],
   "source": [
    "usa_mobility = usa_mobility.groupby(by=['state','date']).mean()\n",
    "\n",
    "usa_mobility"
   ]
  },
  {
   "cell_type": "markdown",
   "metadata": {},
   "source": [
    "## Read and Clean BLS Data"
   ]
  },
  {
   "cell_type": "code",
   "execution_count": 7,
   "metadata": {},
   "outputs": [],
   "source": [
    "unemployment = pd.read_csv('state_unemployment_rate_S.csv')\n",
    "unemployment.pop('Unnamed: 0')\n",
    "\n",
    "unemployment = unemployment.rename(columns = {\"Date\":\"date\", \"State\":\"state\"}) \n",
    "\n",
    "unemployment['date'] = unemployment['date'].map(str_to_date)\n",
    "\n",
    "feb_unemployment = unemployment[unemployment['date'] == '2020-02-01']\n",
    "feb_unemployment = feb_unemployment[['state', 'Unemployment Rate (S)']]\n",
    "feb_unemployment = feb_unemployment.rename(columns = {\"Unemployment Rate (S)\":\"Baseline Unemployment\"}) "
   ]
  },
  {
   "cell_type": "markdown",
   "metadata": {},
   "source": [
    "## Read and Clean Covid Data"
   ]
  },
  {
   "cell_type": "code",
   "execution_count": 8,
   "metadata": {},
   "outputs": [],
   "source": [
    "covid = pd.read_csv('https://api.covidtracking.com/v1/states/daily.csv')\n",
    "\n",
    "# Get rid of columns with deprecated fields\n",
    "deprecated_fields = ['checkTimeEt', 'commercialScore', 'dateChecked',\n",
    "                     'dateModified', 'grade', 'hospitalized', 'negativeIncrease',\n",
    "                     'negativeRegularScore', 'negativeScore', 'posNeg',\n",
    "                     'positiveScore', 'score', 'total']\n",
    "\n",
    "for field in deprecated_fields:\n",
    "    covid.pop(field)\n",
    "\n",
    "# Correct type of date column    \n",
    "fix_date_type(covid)\n",
    "\n",
    "# Change state codes into state names\n",
    "fix_state_code(covid)\n",
    "\n",
    "covid = pd.merge(covid,us_pop,on='state')"
   ]
  },
  {
   "cell_type": "markdown",
   "metadata": {},
   "source": [
    "## Merge/Clean Covid/BLS Data"
   ]
  },
  {
   "cell_type": "code",
   "execution_count": 9,
   "metadata": {},
   "outputs": [
    {
     "data": {
      "text/html": [
       "<div>\n",
       "<style scoped>\n",
       "    .dataframe tbody tr th:only-of-type {\n",
       "        vertical-align: middle;\n",
       "    }\n",
       "\n",
       "    .dataframe tbody tr th {\n",
       "        vertical-align: top;\n",
       "    }\n",
       "\n",
       "    .dataframe thead th {\n",
       "        text-align: right;\n",
       "    }\n",
       "</style>\n",
       "<table border=\"1\" class=\"dataframe\">\n",
       "  <thead>\n",
       "    <tr style=\"text-align: right;\">\n",
       "      <th></th>\n",
       "      <th>date</th>\n",
       "      <th>state</th>\n",
       "      <th>Population</th>\n",
       "      <th>positiveIncrease</th>\n",
       "      <th>totalTestResultsIncrease</th>\n",
       "      <th>deathIncrease</th>\n",
       "      <th>hospitalizedIncrease</th>\n",
       "      <th>Unemployment Rate (S)</th>\n",
       "      <th>Unemployment Rate Change</th>\n",
       "    </tr>\n",
       "  </thead>\n",
       "  <tbody>\n",
       "    <tr>\n",
       "      <th>5</th>\n",
       "      <td>2020-04</td>\n",
       "      <td>Alabama</td>\n",
       "      <td>4903185</td>\n",
       "      <td>96</td>\n",
       "      <td>495</td>\n",
       "      <td>13</td>\n",
       "      <td>0</td>\n",
       "      <td>13.8</td>\n",
       "      <td>NaN</td>\n",
       "    </tr>\n",
       "    <tr>\n",
       "      <th>4</th>\n",
       "      <td>2020-05</td>\n",
       "      <td>Alabama</td>\n",
       "      <td>4903185</td>\n",
       "      <td>139</td>\n",
       "      <td>4737</td>\n",
       "      <td>10</td>\n",
       "      <td>30</td>\n",
       "      <td>9.6</td>\n",
       "      <td>-4.2</td>\n",
       "    </tr>\n",
       "    <tr>\n",
       "      <th>3</th>\n",
       "      <td>2020-06</td>\n",
       "      <td>Alabama</td>\n",
       "      <td>4903185</td>\n",
       "      <td>460</td>\n",
       "      <td>5970</td>\n",
       "      <td>15</td>\n",
       "      <td>12</td>\n",
       "      <td>7.5</td>\n",
       "      <td>-2.1</td>\n",
       "    </tr>\n",
       "    <tr>\n",
       "      <th>2</th>\n",
       "      <td>2020-04</td>\n",
       "      <td>Alaska</td>\n",
       "      <td>731545</td>\n",
       "      <td>14</td>\n",
       "      <td>890</td>\n",
       "      <td>0</td>\n",
       "      <td>2</td>\n",
       "      <td>13.5</td>\n",
       "      <td>NaN</td>\n",
       "    </tr>\n",
       "    <tr>\n",
       "      <th>1</th>\n",
       "      <td>2020-05</td>\n",
       "      <td>Alaska</td>\n",
       "      <td>731545</td>\n",
       "      <td>9</td>\n",
       "      <td>1206</td>\n",
       "      <td>0</td>\n",
       "      <td>0</td>\n",
       "      <td>12.7</td>\n",
       "      <td>-0.8</td>\n",
       "    </tr>\n",
       "    <tr>\n",
       "      <th>...</th>\n",
       "      <td>...</td>\n",
       "      <td>...</td>\n",
       "      <td>...</td>\n",
       "      <td>...</td>\n",
       "      <td>...</td>\n",
       "      <td>...</td>\n",
       "      <td>...</td>\n",
       "      <td>...</td>\n",
       "      <td>...</td>\n",
       "    </tr>\n",
       "    <tr>\n",
       "      <th>150</th>\n",
       "      <td>2020-05</td>\n",
       "      <td>Wisconsin</td>\n",
       "      <td>5822434</td>\n",
       "      <td>498</td>\n",
       "      <td>3670</td>\n",
       "      <td>11</td>\n",
       "      <td>32</td>\n",
       "      <td>12.1</td>\n",
       "      <td>-1.5</td>\n",
       "    </tr>\n",
       "    <tr>\n",
       "      <th>149</th>\n",
       "      <td>2020-06</td>\n",
       "      <td>Wisconsin</td>\n",
       "      <td>5822434</td>\n",
       "      <td>172</td>\n",
       "      <td>3664</td>\n",
       "      <td>3</td>\n",
       "      <td>20</td>\n",
       "      <td>8.5</td>\n",
       "      <td>-3.6</td>\n",
       "    </tr>\n",
       "    <tr>\n",
       "      <th>157</th>\n",
       "      <td>2020-04</td>\n",
       "      <td>Wyoming</td>\n",
       "      <td>578759</td>\n",
       "      <td>21</td>\n",
       "      <td>240</td>\n",
       "      <td>0</td>\n",
       "      <td>1</td>\n",
       "      <td>9.6</td>\n",
       "      <td>NaN</td>\n",
       "    </tr>\n",
       "    <tr>\n",
       "      <th>156</th>\n",
       "      <td>2020-05</td>\n",
       "      <td>Wyoming</td>\n",
       "      <td>578759</td>\n",
       "      <td>15</td>\n",
       "      <td>249</td>\n",
       "      <td>0</td>\n",
       "      <td>0</td>\n",
       "      <td>8.8</td>\n",
       "      <td>-0.8</td>\n",
       "    </tr>\n",
       "    <tr>\n",
       "      <th>155</th>\n",
       "      <td>2020-06</td>\n",
       "      <td>Wyoming</td>\n",
       "      <td>578759</td>\n",
       "      <td>7</td>\n",
       "      <td>754</td>\n",
       "      <td>1</td>\n",
       "      <td>1</td>\n",
       "      <td>7.6</td>\n",
       "      <td>-1.2</td>\n",
       "    </tr>\n",
       "  </tbody>\n",
       "</table>\n",
       "<p>158 rows × 9 columns</p>\n",
       "</div>"
      ],
      "text/plain": [
       "        date      state  Population  positiveIncrease  \\\n",
       "5    2020-04    Alabama     4903185                96   \n",
       "4    2020-05    Alabama     4903185               139   \n",
       "3    2020-06    Alabama     4903185               460   \n",
       "2    2020-04     Alaska      731545                14   \n",
       "1    2020-05     Alaska      731545                 9   \n",
       "..       ...        ...         ...               ...   \n",
       "150  2020-05  Wisconsin     5822434               498   \n",
       "149  2020-06  Wisconsin     5822434               172   \n",
       "157  2020-04    Wyoming      578759                21   \n",
       "156  2020-05    Wyoming      578759                15   \n",
       "155  2020-06    Wyoming      578759                 7   \n",
       "\n",
       "     totalTestResultsIncrease  deathIncrease  hospitalizedIncrease  \\\n",
       "5                         495             13                     0   \n",
       "4                        4737             10                    30   \n",
       "3                        5970             15                    12   \n",
       "2                         890              0                     2   \n",
       "1                        1206              0                     0   \n",
       "..                        ...            ...                   ...   \n",
       "150                      3670             11                    32   \n",
       "149                      3664              3                    20   \n",
       "157                       240              0                     1   \n",
       "156                       249              0                     0   \n",
       "155                       754              1                     1   \n",
       "\n",
       "     Unemployment Rate (S)  Unemployment Rate Change  \n",
       "5                     13.8                       NaN  \n",
       "4                      9.6                      -4.2  \n",
       "3                      7.5                      -2.1  \n",
       "2                     13.5                       NaN  \n",
       "1                     12.7                      -0.8  \n",
       "..                     ...                       ...  \n",
       "150                   12.1                      -1.5  \n",
       "149                    8.5                      -3.6  \n",
       "157                    9.6                       NaN  \n",
       "156                    8.8                      -0.8  \n",
       "155                    7.6                      -1.2  \n",
       "\n",
       "[158 rows x 9 columns]"
      ]
     },
     "execution_count": 9,
     "metadata": {},
     "output_type": "execute_result"
    }
   ],
   "source": [
    "data = pd.merge(covid,unemployment,on=['state','date'])\n",
    "\n",
    "# Get rid of columns that we aren't going to regress on\n",
    "unimportant = ['fips', 'hash','dataQualityGrade', 'lastUpdateEt']\n",
    "\n",
    "for field in unimportant:\n",
    "    data.pop(field)\n",
    "    \n",
    "data = data[['date',\n",
    "             'state', \n",
    "             'Population',\n",
    "             'positiveIncrease',\n",
    "             'totalTestResultsIncrease',\n",
    "             'deathIncrease',\n",
    "             'hospitalizedIncrease',\n",
    "             'Unemployment Rate (S)']]\n",
    "\n",
    "data.dropna()\n",
    "\n",
    "dates_to_month_str(data)\n",
    "data.groupby(by=[\"state\",'date']).mean()\n",
    "\n",
    "data = data.sort_values(['state','date'])\n",
    "\n",
    "data['Unemployment Rate Change'] = data.groupby(['state'])['Unemployment Rate (S)'].diff()\n",
    "\n",
    "data"
   ]
  },
  {
   "cell_type": "code",
   "execution_count": 10,
   "metadata": {},
   "outputs": [
    {
     "data": {
      "text/html": [
       "<div>\n",
       "<style scoped>\n",
       "    .dataframe tbody tr th:only-of-type {\n",
       "        vertical-align: middle;\n",
       "    }\n",
       "\n",
       "    .dataframe tbody tr th {\n",
       "        vertical-align: top;\n",
       "    }\n",
       "\n",
       "    .dataframe thead th {\n",
       "        text-align: right;\n",
       "    }\n",
       "</style>\n",
       "<table border=\"1\" class=\"dataframe\">\n",
       "  <thead>\n",
       "    <tr style=\"text-align: right;\">\n",
       "      <th></th>\n",
       "      <th>date</th>\n",
       "      <th>state</th>\n",
       "      <th>Population</th>\n",
       "      <th>positiveIncrease</th>\n",
       "      <th>totalTestResultsIncrease</th>\n",
       "      <th>deathIncrease</th>\n",
       "      <th>hospitalizedIncrease</th>\n",
       "      <th>Unemployment Rate (S)</th>\n",
       "      <th>Unemployment Rate Change</th>\n",
       "      <th>Baseline Unemployment</th>\n",
       "      <th>Label</th>\n",
       "    </tr>\n",
       "  </thead>\n",
       "  <tbody>\n",
       "    <tr>\n",
       "      <th>1</th>\n",
       "      <td>2020-05</td>\n",
       "      <td>Alabama</td>\n",
       "      <td>4903185</td>\n",
       "      <td>2.834892</td>\n",
       "      <td>96.610672</td>\n",
       "      <td>0.203949</td>\n",
       "      <td>0.611847</td>\n",
       "      <td>9.6</td>\n",
       "      <td>-4.2</td>\n",
       "      <td>2.7</td>\n",
       "      <td>6.9</td>\n",
       "    </tr>\n",
       "    <tr>\n",
       "      <th>2</th>\n",
       "      <td>2020-06</td>\n",
       "      <td>Alabama</td>\n",
       "      <td>4903185</td>\n",
       "      <td>9.381657</td>\n",
       "      <td>121.757592</td>\n",
       "      <td>0.305924</td>\n",
       "      <td>0.244739</td>\n",
       "      <td>7.5</td>\n",
       "      <td>-2.1</td>\n",
       "      <td>2.7</td>\n",
       "      <td>4.8</td>\n",
       "    </tr>\n",
       "    <tr>\n",
       "      <th>4</th>\n",
       "      <td>2020-05</td>\n",
       "      <td>Alaska</td>\n",
       "      <td>731545</td>\n",
       "      <td>1.230273</td>\n",
       "      <td>164.856571</td>\n",
       "      <td>0.000000</td>\n",
       "      <td>0.000000</td>\n",
       "      <td>12.7</td>\n",
       "      <td>-0.8</td>\n",
       "      <td>5.8</td>\n",
       "      <td>6.9</td>\n",
       "    </tr>\n",
       "    <tr>\n",
       "      <th>5</th>\n",
       "      <td>2020-06</td>\n",
       "      <td>Alaska</td>\n",
       "      <td>731545</td>\n",
       "      <td>4.511001</td>\n",
       "      <td>341.058992</td>\n",
       "      <td>0.000000</td>\n",
       "      <td>0.000000</td>\n",
       "      <td>12.4</td>\n",
       "      <td>-0.3</td>\n",
       "      <td>5.8</td>\n",
       "      <td>6.6</td>\n",
       "    </tr>\n",
       "    <tr>\n",
       "      <th>7</th>\n",
       "      <td>2020-05</td>\n",
       "      <td>Arizona</td>\n",
       "      <td>7278717</td>\n",
       "      <td>4.313947</td>\n",
       "      <td>42.493753</td>\n",
       "      <td>0.137387</td>\n",
       "      <td>0.673196</td>\n",
       "      <td>9.0</td>\n",
       "      <td>-4.4</td>\n",
       "      <td>4.5</td>\n",
       "      <td>4.5</td>\n",
       "    </tr>\n",
       "    <tr>\n",
       "      <th>...</th>\n",
       "      <td>...</td>\n",
       "      <td>...</td>\n",
       "      <td>...</td>\n",
       "      <td>...</td>\n",
       "      <td>...</td>\n",
       "      <td>...</td>\n",
       "      <td>...</td>\n",
       "      <td>...</td>\n",
       "      <td>...</td>\n",
       "      <td>...</td>\n",
       "      <td>...</td>\n",
       "    </tr>\n",
       "    <tr>\n",
       "      <th>151</th>\n",
       "      <td>2020-06</td>\n",
       "      <td>West Virginia</td>\n",
       "      <td>1792147</td>\n",
       "      <td>0.390593</td>\n",
       "      <td>26.392924</td>\n",
       "      <td>0.000000</td>\n",
       "      <td>0.000000</td>\n",
       "      <td>10.4</td>\n",
       "      <td>-2.5</td>\n",
       "      <td>4.9</td>\n",
       "      <td>5.5</td>\n",
       "    </tr>\n",
       "    <tr>\n",
       "      <th>153</th>\n",
       "      <td>2020-05</td>\n",
       "      <td>Wisconsin</td>\n",
       "      <td>5822434</td>\n",
       "      <td>8.553124</td>\n",
       "      <td>63.032058</td>\n",
       "      <td>0.188924</td>\n",
       "      <td>0.549598</td>\n",
       "      <td>12.1</td>\n",
       "      <td>-1.5</td>\n",
       "      <td>3.5</td>\n",
       "      <td>8.6</td>\n",
       "    </tr>\n",
       "    <tr>\n",
       "      <th>154</th>\n",
       "      <td>2020-06</td>\n",
       "      <td>Wisconsin</td>\n",
       "      <td>5822434</td>\n",
       "      <td>2.954091</td>\n",
       "      <td>62.929009</td>\n",
       "      <td>0.051525</td>\n",
       "      <td>0.343499</td>\n",
       "      <td>8.5</td>\n",
       "      <td>-3.6</td>\n",
       "      <td>3.5</td>\n",
       "      <td>5.0</td>\n",
       "    </tr>\n",
       "    <tr>\n",
       "      <th>156</th>\n",
       "      <td>2020-05</td>\n",
       "      <td>Wyoming</td>\n",
       "      <td>578759</td>\n",
       "      <td>2.591752</td>\n",
       "      <td>43.023089</td>\n",
       "      <td>0.000000</td>\n",
       "      <td>0.000000</td>\n",
       "      <td>8.8</td>\n",
       "      <td>-0.8</td>\n",
       "      <td>3.7</td>\n",
       "      <td>5.1</td>\n",
       "    </tr>\n",
       "    <tr>\n",
       "      <th>157</th>\n",
       "      <td>2020-06</td>\n",
       "      <td>Wyoming</td>\n",
       "      <td>578759</td>\n",
       "      <td>1.209484</td>\n",
       "      <td>130.278752</td>\n",
       "      <td>0.172783</td>\n",
       "      <td>0.172783</td>\n",
       "      <td>7.6</td>\n",
       "      <td>-1.2</td>\n",
       "      <td>3.7</td>\n",
       "      <td>3.9</td>\n",
       "    </tr>\n",
       "  </tbody>\n",
       "</table>\n",
       "<p>107 rows × 11 columns</p>\n",
       "</div>"
      ],
      "text/plain": [
       "        date          state  Population  positiveIncrease  \\\n",
       "1    2020-05        Alabama     4903185          2.834892   \n",
       "2    2020-06        Alabama     4903185          9.381657   \n",
       "4    2020-05         Alaska      731545          1.230273   \n",
       "5    2020-06         Alaska      731545          4.511001   \n",
       "7    2020-05        Arizona     7278717          4.313947   \n",
       "..       ...            ...         ...               ...   \n",
       "151  2020-06  West Virginia     1792147          0.390593   \n",
       "153  2020-05      Wisconsin     5822434          8.553124   \n",
       "154  2020-06      Wisconsin     5822434          2.954091   \n",
       "156  2020-05        Wyoming      578759          2.591752   \n",
       "157  2020-06        Wyoming      578759          1.209484   \n",
       "\n",
       "     totalTestResultsIncrease  deathIncrease  hospitalizedIncrease  \\\n",
       "1                   96.610672       0.203949              0.611847   \n",
       "2                  121.757592       0.305924              0.244739   \n",
       "4                  164.856571       0.000000              0.000000   \n",
       "5                  341.058992       0.000000              0.000000   \n",
       "7                   42.493753       0.137387              0.673196   \n",
       "..                        ...            ...                   ...   \n",
       "151                 26.392924       0.000000              0.000000   \n",
       "153                 63.032058       0.188924              0.549598   \n",
       "154                 62.929009       0.051525              0.343499   \n",
       "156                 43.023089       0.000000              0.000000   \n",
       "157                130.278752       0.172783              0.172783   \n",
       "\n",
       "     Unemployment Rate (S)  Unemployment Rate Change  Baseline Unemployment  \\\n",
       "1                      9.6                      -4.2                    2.7   \n",
       "2                      7.5                      -2.1                    2.7   \n",
       "4                     12.7                      -0.8                    5.8   \n",
       "5                     12.4                      -0.3                    5.8   \n",
       "7                      9.0                      -4.4                    4.5   \n",
       "..                     ...                       ...                    ...   \n",
       "151                   10.4                      -2.5                    4.9   \n",
       "153                   12.1                      -1.5                    3.5   \n",
       "154                    8.5                      -3.6                    3.5   \n",
       "156                    8.8                      -0.8                    3.7   \n",
       "157                    7.6                      -1.2                    3.7   \n",
       "\n",
       "     Label  \n",
       "1      6.9  \n",
       "2      4.8  \n",
       "4      6.9  \n",
       "5      6.6  \n",
       "7      4.5  \n",
       "..     ...  \n",
       "151    5.5  \n",
       "153    8.6  \n",
       "154    5.0  \n",
       "156    5.1  \n",
       "157    3.9  \n",
       "\n",
       "[107 rows x 11 columns]"
      ]
     },
     "execution_count": 10,
     "metadata": {},
     "output_type": "execute_result"
    }
   ],
   "source": [
    "\n",
    "data.iloc[:,3:7] = data.iloc[:,3:7].divide(data.iloc[:,2], axis=0) * 100000\n",
    "\n",
    "data = pd.merge(data,feb_unemployment,on='state')\n",
    "\n",
    "data[\"Label\"] = (data['Unemployment Rate (S)'] - data[\"Baseline Unemployment\"]) # / (data[\"Baseline Unemployment\"])\n",
    "\n",
    "data.dropna()"
   ]
  },
  {
   "cell_type": "markdown",
   "metadata": {},
   "source": [
    "# Adding Google Mobility Data to Regressions"
   ]
  },
  {
   "cell_type": "markdown",
   "metadata": {},
   "source": [
    "## Merging Google Mobility Data"
   ]
  },
  {
   "cell_type": "code",
   "execution_count": 11,
   "metadata": {},
   "outputs": [],
   "source": [
    "final_data = pd.merge(usa_mobility, data, on=['state','date'])"
   ]
  },
  {
   "cell_type": "code",
   "execution_count": 12,
   "metadata": {},
   "outputs": [
    {
     "data": {
      "text/html": [
       "<div>\n",
       "<style scoped>\n",
       "    .dataframe tbody tr th:only-of-type {\n",
       "        vertical-align: middle;\n",
       "    }\n",
       "\n",
       "    .dataframe tbody tr th {\n",
       "        vertical-align: top;\n",
       "    }\n",
       "\n",
       "    .dataframe thead th {\n",
       "        text-align: right;\n",
       "    }\n",
       "</style>\n",
       "<table border=\"1\" class=\"dataframe\">\n",
       "  <thead>\n",
       "    <tr style=\"text-align: right;\">\n",
       "      <th></th>\n",
       "      <th>state</th>\n",
       "      <th>date</th>\n",
       "      <th>retail_and_recreation_percent_change_from_baseline</th>\n",
       "      <th>grocery_and_pharmacy_percent_change_from_baseline</th>\n",
       "      <th>parks_percent_change_from_baseline</th>\n",
       "      <th>transit_stations_percent_change_from_baseline</th>\n",
       "      <th>workplaces_percent_change_from_baseline</th>\n",
       "      <th>residential_percent_change_from_baseline</th>\n",
       "      <th>Population</th>\n",
       "      <th>positiveIncrease</th>\n",
       "      <th>totalTestResultsIncrease</th>\n",
       "      <th>deathIncrease</th>\n",
       "      <th>hospitalizedIncrease</th>\n",
       "      <th>Unemployment Rate (S)</th>\n",
       "      <th>Unemployment Rate Change</th>\n",
       "      <th>Baseline Unemployment</th>\n",
       "      <th>Label</th>\n",
       "    </tr>\n",
       "  </thead>\n",
       "  <tbody>\n",
       "    <tr>\n",
       "      <th>0</th>\n",
       "      <td>Alabama</td>\n",
       "      <td>2020-04</td>\n",
       "      <td>-27.670348</td>\n",
       "      <td>-1.923012</td>\n",
       "      <td>3.710462</td>\n",
       "      <td>-26.964387</td>\n",
       "      <td>-33.469239</td>\n",
       "      <td>14.047445</td>\n",
       "      <td>4903185</td>\n",
       "      <td>1.957911</td>\n",
       "      <td>10.095479</td>\n",
       "      <td>0.265134</td>\n",
       "      <td>0.000000</td>\n",
       "      <td>13.8</td>\n",
       "      <td>1</td>\n",
       "      <td>2.7</td>\n",
       "      <td>11.1</td>\n",
       "    </tr>\n",
       "    <tr>\n",
       "      <th>1</th>\n",
       "      <td>Alabama</td>\n",
       "      <td>2020-05</td>\n",
       "      <td>-6.477370</td>\n",
       "      <td>8.660637</td>\n",
       "      <td>36.619632</td>\n",
       "      <td>-6.299854</td>\n",
       "      <td>-24.902001</td>\n",
       "      <td>8.838235</td>\n",
       "      <td>4903185</td>\n",
       "      <td>2.834892</td>\n",
       "      <td>96.610672</td>\n",
       "      <td>0.203949</td>\n",
       "      <td>0.611847</td>\n",
       "      <td>9.6</td>\n",
       "      <td>0</td>\n",
       "      <td>2.7</td>\n",
       "      <td>6.9</td>\n",
       "    </tr>\n",
       "    <tr>\n",
       "      <th>2</th>\n",
       "      <td>Alabama</td>\n",
       "      <td>2020-06</td>\n",
       "      <td>-1.270361</td>\n",
       "      <td>6.496705</td>\n",
       "      <td>44.950000</td>\n",
       "      <td>4.349158</td>\n",
       "      <td>-20.877947</td>\n",
       "      <td>6.487778</td>\n",
       "      <td>4903185</td>\n",
       "      <td>9.381657</td>\n",
       "      <td>121.757592</td>\n",
       "      <td>0.305924</td>\n",
       "      <td>0.244739</td>\n",
       "      <td>7.5</td>\n",
       "      <td>0</td>\n",
       "      <td>2.7</td>\n",
       "      <td>4.8</td>\n",
       "    </tr>\n",
       "    <tr>\n",
       "      <th>3</th>\n",
       "      <td>Alaska</td>\n",
       "      <td>2020-04</td>\n",
       "      <td>-29.540373</td>\n",
       "      <td>-11.680982</td>\n",
       "      <td>28.852459</td>\n",
       "      <td>-51.700000</td>\n",
       "      <td>-33.101266</td>\n",
       "      <td>14.839695</td>\n",
       "      <td>731545</td>\n",
       "      <td>1.913758</td>\n",
       "      <td>121.660322</td>\n",
       "      <td>0.000000</td>\n",
       "      <td>0.273394</td>\n",
       "      <td>13.5</td>\n",
       "      <td>1</td>\n",
       "      <td>5.8</td>\n",
       "      <td>7.7</td>\n",
       "    </tr>\n",
       "    <tr>\n",
       "      <th>4</th>\n",
       "      <td>Alaska</td>\n",
       "      <td>2020-05</td>\n",
       "      <td>0.917160</td>\n",
       "      <td>10.832215</td>\n",
       "      <td>97.242424</td>\n",
       "      <td>-35.661290</td>\n",
       "      <td>-23.911672</td>\n",
       "      <td>7.489209</td>\n",
       "      <td>731545</td>\n",
       "      <td>1.230273</td>\n",
       "      <td>164.856571</td>\n",
       "      <td>0.000000</td>\n",
       "      <td>0.000000</td>\n",
       "      <td>12.7</td>\n",
       "      <td>0</td>\n",
       "      <td>5.8</td>\n",
       "      <td>6.9</td>\n",
       "    </tr>\n",
       "    <tr>\n",
       "      <th>...</th>\n",
       "      <td>...</td>\n",
       "      <td>...</td>\n",
       "      <td>...</td>\n",
       "      <td>...</td>\n",
       "      <td>...</td>\n",
       "      <td>...</td>\n",
       "      <td>...</td>\n",
       "      <td>...</td>\n",
       "      <td>...</td>\n",
       "      <td>...</td>\n",
       "      <td>...</td>\n",
       "      <td>...</td>\n",
       "      <td>...</td>\n",
       "      <td>...</td>\n",
       "      <td>...</td>\n",
       "      <td>...</td>\n",
       "      <td>...</td>\n",
       "    </tr>\n",
       "    <tr>\n",
       "      <th>153</th>\n",
       "      <td>Wisconsin</td>\n",
       "      <td>2020-05</td>\n",
       "      <td>-15.082244</td>\n",
       "      <td>5.709180</td>\n",
       "      <td>82.270492</td>\n",
       "      <td>-11.008389</td>\n",
       "      <td>-28.603424</td>\n",
       "      <td>11.790885</td>\n",
       "      <td>5822434</td>\n",
       "      <td>8.553124</td>\n",
       "      <td>63.032058</td>\n",
       "      <td>0.188924</td>\n",
       "      <td>0.549598</td>\n",
       "      <td>12.1</td>\n",
       "      <td>0</td>\n",
       "      <td>3.5</td>\n",
       "      <td>8.6</td>\n",
       "    </tr>\n",
       "    <tr>\n",
       "      <th>154</th>\n",
       "      <td>Wisconsin</td>\n",
       "      <td>2020-06</td>\n",
       "      <td>6.149331</td>\n",
       "      <td>14.316054</td>\n",
       "      <td>146.639535</td>\n",
       "      <td>4.644809</td>\n",
       "      <td>-19.571499</td>\n",
       "      <td>6.737245</td>\n",
       "      <td>5822434</td>\n",
       "      <td>2.954091</td>\n",
       "      <td>62.929009</td>\n",
       "      <td>0.051525</td>\n",
       "      <td>0.343499</td>\n",
       "      <td>8.5</td>\n",
       "      <td>0</td>\n",
       "      <td>3.5</td>\n",
       "      <td>5.0</td>\n",
       "    </tr>\n",
       "    <tr>\n",
       "      <th>155</th>\n",
       "      <td>Wyoming</td>\n",
       "      <td>2020-04</td>\n",
       "      <td>-34.505017</td>\n",
       "      <td>-8.355263</td>\n",
       "      <td>-0.776860</td>\n",
       "      <td>-10.286275</td>\n",
       "      <td>-33.250000</td>\n",
       "      <td>13.713514</td>\n",
       "      <td>578759</td>\n",
       "      <td>3.628453</td>\n",
       "      <td>41.468038</td>\n",
       "      <td>0.000000</td>\n",
       "      <td>0.172783</td>\n",
       "      <td>9.6</td>\n",
       "      <td>1</td>\n",
       "      <td>3.7</td>\n",
       "      <td>5.9</td>\n",
       "    </tr>\n",
       "    <tr>\n",
       "      <th>156</th>\n",
       "      <td>Wyoming</td>\n",
       "      <td>2020-05</td>\n",
       "      <td>-8.718644</td>\n",
       "      <td>7.165714</td>\n",
       "      <td>53.236364</td>\n",
       "      <td>3.737410</td>\n",
       "      <td>-25.006745</td>\n",
       "      <td>8.301020</td>\n",
       "      <td>578759</td>\n",
       "      <td>2.591752</td>\n",
       "      <td>43.023089</td>\n",
       "      <td>0.000000</td>\n",
       "      <td>0.000000</td>\n",
       "      <td>8.8</td>\n",
       "      <td>0</td>\n",
       "      <td>3.7</td>\n",
       "      <td>5.1</td>\n",
       "    </tr>\n",
       "    <tr>\n",
       "      <th>157</th>\n",
       "      <td>Wyoming</td>\n",
       "      <td>2020-06</td>\n",
       "      <td>11.122324</td>\n",
       "      <td>20.786982</td>\n",
       "      <td>156.206897</td>\n",
       "      <td>22.855513</td>\n",
       "      <td>-19.431271</td>\n",
       "      <td>3.865741</td>\n",
       "      <td>578759</td>\n",
       "      <td>1.209484</td>\n",
       "      <td>130.278752</td>\n",
       "      <td>0.172783</td>\n",
       "      <td>0.172783</td>\n",
       "      <td>7.6</td>\n",
       "      <td>0</td>\n",
       "      <td>3.7</td>\n",
       "      <td>3.9</td>\n",
       "    </tr>\n",
       "  </tbody>\n",
       "</table>\n",
       "<p>158 rows × 17 columns</p>\n",
       "</div>"
      ],
      "text/plain": [
       "         state     date  retail_and_recreation_percent_change_from_baseline  \\\n",
       "0      Alabama  2020-04                                         -27.670348    \n",
       "1      Alabama  2020-05                                          -6.477370    \n",
       "2      Alabama  2020-06                                          -1.270361    \n",
       "3       Alaska  2020-04                                         -29.540373    \n",
       "4       Alaska  2020-05                                           0.917160    \n",
       "..         ...      ...                                                ...    \n",
       "153  Wisconsin  2020-05                                         -15.082244    \n",
       "154  Wisconsin  2020-06                                           6.149331    \n",
       "155    Wyoming  2020-04                                         -34.505017    \n",
       "156    Wyoming  2020-05                                          -8.718644    \n",
       "157    Wyoming  2020-06                                          11.122324    \n",
       "\n",
       "     grocery_and_pharmacy_percent_change_from_baseline  \\\n",
       "0                                            -1.923012   \n",
       "1                                             8.660637   \n",
       "2                                             6.496705   \n",
       "3                                           -11.680982   \n",
       "4                                            10.832215   \n",
       "..                                                 ...   \n",
       "153                                           5.709180   \n",
       "154                                          14.316054   \n",
       "155                                          -8.355263   \n",
       "156                                           7.165714   \n",
       "157                                          20.786982   \n",
       "\n",
       "     parks_percent_change_from_baseline  \\\n",
       "0                              3.710462   \n",
       "1                             36.619632   \n",
       "2                             44.950000   \n",
       "3                             28.852459   \n",
       "4                             97.242424   \n",
       "..                                  ...   \n",
       "153                           82.270492   \n",
       "154                          146.639535   \n",
       "155                           -0.776860   \n",
       "156                           53.236364   \n",
       "157                          156.206897   \n",
       "\n",
       "     transit_stations_percent_change_from_baseline  \\\n",
       "0                                       -26.964387   \n",
       "1                                        -6.299854   \n",
       "2                                         4.349158   \n",
       "3                                       -51.700000   \n",
       "4                                       -35.661290   \n",
       "..                                             ...   \n",
       "153                                     -11.008389   \n",
       "154                                       4.644809   \n",
       "155                                     -10.286275   \n",
       "156                                       3.737410   \n",
       "157                                      22.855513   \n",
       "\n",
       "     workplaces_percent_change_from_baseline  \\\n",
       "0                                 -33.469239   \n",
       "1                                 -24.902001   \n",
       "2                                 -20.877947   \n",
       "3                                 -33.101266   \n",
       "4                                 -23.911672   \n",
       "..                                       ...   \n",
       "153                               -28.603424   \n",
       "154                               -19.571499   \n",
       "155                               -33.250000   \n",
       "156                               -25.006745   \n",
       "157                               -19.431271   \n",
       "\n",
       "     residential_percent_change_from_baseline  Population  positiveIncrease  \\\n",
       "0                                   14.047445     4903185          1.957911   \n",
       "1                                    8.838235     4903185          2.834892   \n",
       "2                                    6.487778     4903185          9.381657   \n",
       "3                                   14.839695      731545          1.913758   \n",
       "4                                    7.489209      731545          1.230273   \n",
       "..                                        ...         ...               ...   \n",
       "153                                 11.790885     5822434          8.553124   \n",
       "154                                  6.737245     5822434          2.954091   \n",
       "155                                 13.713514      578759          3.628453   \n",
       "156                                  8.301020      578759          2.591752   \n",
       "157                                  3.865741      578759          1.209484   \n",
       "\n",
       "     totalTestResultsIncrease  deathIncrease  hospitalizedIncrease  \\\n",
       "0                   10.095479       0.265134              0.000000   \n",
       "1                   96.610672       0.203949              0.611847   \n",
       "2                  121.757592       0.305924              0.244739   \n",
       "3                  121.660322       0.000000              0.273394   \n",
       "4                  164.856571       0.000000              0.000000   \n",
       "..                        ...            ...                   ...   \n",
       "153                 63.032058       0.188924              0.549598   \n",
       "154                 62.929009       0.051525              0.343499   \n",
       "155                 41.468038       0.000000              0.172783   \n",
       "156                 43.023089       0.000000              0.000000   \n",
       "157                130.278752       0.172783              0.172783   \n",
       "\n",
       "     Unemployment Rate (S)  Unemployment Rate Change  Baseline Unemployment  \\\n",
       "0                     13.8                         1                    2.7   \n",
       "1                      9.6                         0                    2.7   \n",
       "2                      7.5                         0                    2.7   \n",
       "3                     13.5                         1                    5.8   \n",
       "4                     12.7                         0                    5.8   \n",
       "..                     ...                       ...                    ...   \n",
       "153                   12.1                         0                    3.5   \n",
       "154                    8.5                         0                    3.5   \n",
       "155                    9.6                         1                    3.7   \n",
       "156                    8.8                         0                    3.7   \n",
       "157                    7.6                         0                    3.7   \n",
       "\n",
       "     Label  \n",
       "0     11.1  \n",
       "1      6.9  \n",
       "2      4.8  \n",
       "3      7.7  \n",
       "4      6.9  \n",
       "..     ...  \n",
       "153    8.6  \n",
       "154    5.0  \n",
       "155    5.9  \n",
       "156    5.1  \n",
       "157    3.9  \n",
       "\n",
       "[158 rows x 17 columns]"
      ]
     },
     "execution_count": 12,
     "metadata": {},
     "output_type": "execute_result"
    }
   ],
   "source": [
    "make_categorical(final_data)\n",
    "final_data.dropna()\n",
    "final_data"
   ]
  },
  {
   "cell_type": "markdown",
   "metadata": {},
   "source": [
    "## Making Train/Test Split"
   ]
  },
  {
   "cell_type": "code",
   "execution_count": 13,
   "metadata": {
    "scrolled": false
   },
   "outputs": [
    {
     "data": {
      "text/plain": [
       "51"
      ]
     },
     "execution_count": 13,
     "metadata": {},
     "output_type": "execute_result"
    }
   ],
   "source": [
    "cols = final_data.columns.to_list()\n",
    "\n",
    "features = cols[2:8] + cols[9:13]\n",
    "\n",
    "split_date = \"2020-06-01\"\n",
    "train_data = final_data[final_data.date < split_date]\n",
    "test_data = final_data[final_data.date >= split_date]\n",
    "\n",
    "X_train = train_data[features]\n",
    "y_train = train_data[\"Label\"]\n",
    "\n",
    "X_test = test_data[features]\n",
    "y_test = test_data[\"Label\"]\n",
    "\n",
    "len(y_test)"
   ]
  },
  {
   "cell_type": "code",
   "execution_count": 14,
   "metadata": {},
   "outputs": [
    {
     "data": {
      "text/plain": [
       "<AxesSubplot:>"
      ]
     },
     "execution_count": 14,
     "metadata": {},
     "output_type": "execute_result"
    },
    {
     "data": {
      "image/png": "[encoded data removed]",
      "text/plain": [
       "<Figure size 864x648 with 2 Axes>"
      ]
     },
     "metadata": {
      "needs_background": "light"
     },
     "output_type": "display_data"
    }
   ],
   "source": [
    "corr_matrix = final_data.corr()\n",
    "plt.figure(figsize=(12, 9))\n",
    "sn.heatmap(corr_matrix, annot=True)\n",
    "\n",
    "# plt.show()"
   ]
  },
  {
   "cell_type": "markdown",
   "metadata": {},
   "source": [
    "## Linear Regression"
   ]
  },
  {
   "cell_type": "code",
   "execution_count": 15,
   "metadata": {},
   "outputs": [
    {
     "data": {
      "text/plain": [
       "LinearRegression(copy_X=True, fit_intercept=True, n_jobs=None, normalize=False)"
      ]
     },
     "execution_count": 15,
     "metadata": {},
     "output_type": "execute_result"
    }
   ],
   "source": [
    "lin_model = LinearRegression()\n",
    "\n",
    "lin_model.fit(X_train, y_train)"
   ]
  },
  {
   "cell_type": "code",
   "execution_count": 16,
   "metadata": {},
   "outputs": [],
   "source": [
    "train_pred = lin_model.predict(X_train)"
   ]
  },
  {
   "cell_type": "code",
   "execution_count": 17,
   "metadata": {},
   "outputs": [
    {
     "name": "stdout",
     "output_type": "stream",
     "text": [
      "R^2 is :                   0.3633632714585425\n",
      "Adjusted R2 is :           0.28605738299279415\n",
      "MSE is :                   12.219924214249021\n",
      "Mean absolute error is :   2.4261021297054217\n",
      "Median absolute error is : 1.5978882703143729\n"
     ]
    }
   ],
   "source": [
    "linear_reg_summary(final_data,y_train,train_pred)"
   ]
  },
  {
   "cell_type": "code",
   "execution_count": 18,
   "metadata": {},
   "outputs": [],
   "source": [
    "test_pred = lin_model.predict(X_test)"
   ]
  },
  {
   "cell_type": "code",
   "execution_count": 19,
   "metadata": {},
   "outputs": [
    {
     "name": "stdout",
     "output_type": "stream",
     "text": [
      "R^2 is :                   -0.2064872185527442\n",
      "Adjusted R2 is :           -0.3529892379484345\n",
      "MSE is :                   11.111371560207559\n",
      "Mean absolute error is :   2.4887820547846964\n",
      "Median absolute error is : 2.133999380190062\n"
     ]
    }
   ],
   "source": [
    "linear_reg_summary(final_data,y_test,test_pred)"
   ]
  },
  {
   "cell_type": "code",
   "execution_count": 20,
   "metadata": {},
   "outputs": [
    {
     "name": "stdout",
     "output_type": "stream",
     "text": [
      "retail_and_recreation_percent_change_from_baseline: 0.11784050647147737\n",
      "grocery_and_pharmacy_percent_change_from_baseline: 0.03123340944801735\n",
      "parks_percent_change_from_baseline: -0.022354314837441703\n",
      "transit_stations_percent_change_from_baseline: 0.006645224748666228\n",
      "workplaces_percent_change_from_baseline: -0.40720508916963494\n",
      "residential_percent_change_from_baseline: 0.11734542207303983\n",
      "positiveIncrease: -0.19095737916248073\n",
      "totalTestResultsIncrease: 0.003305554205045184\n",
      "deathIncrease: 2.847949120770051\n",
      "hospitalizedIncrease: -0.0254905448524328\n"
     ]
    }
   ],
   "source": [
    "# plt.plot(y_test, test_guess, 'o')\n",
    "# lin_model.coef_\n",
    "\n",
    "for i in range(len(features)):\n",
    "    print(\"{}: {}\".format(features[i], lin_model.coef_[i]))"
   ]
  },
  {
   "cell_type": "code",
   "execution_count": null,
   "metadata": {},
   "outputs": [],
   "source": []
  },
  {
   "cell_type": "markdown",
   "metadata": {},
   "source": [
    "## Lasso"
   ]
  },
  {
   "cell_type": "code",
   "execution_count": 21,
   "metadata": {},
   "outputs": [],
   "source": [
    "# Y = final_data['Unemployment Rate (S)'].to_numpy()\n",
    "# X = final_data.drop(columns = ['date','state','Unemployment Rate (S)','Unemployment Rate Change','Population']).to_numpy()\n",
    "\n",
    "# X_train, X_test, y_train, y_test = train_test_split(X, Y, test_size=.2, random_state=0)"
   ]
  },
  {
   "cell_type": "code",
   "execution_count": 22,
   "metadata": {},
   "outputs": [],
   "source": [
    "lasso_model = Lasso(alpha = 2.8)"
   ]
  },
  {
   "cell_type": "code",
   "execution_count": 23,
   "metadata": {},
   "outputs": [
    {
     "data": {
      "text/plain": [
       "Lasso(alpha=2.8, copy_X=True, fit_intercept=True, max_iter=1000,\n",
       "      normalize=False, positive=False, precompute=False, random_state=None,\n",
       "      selection='cyclic', tol=0.0001, warm_start=False)"
      ]
     },
     "execution_count": 23,
     "metadata": {},
     "output_type": "execute_result"
    }
   ],
   "source": [
    "lasso_model.fit(X_train, y_train)"
   ]
  },
  {
   "cell_type": "code",
   "execution_count": 24,
   "metadata": {},
   "outputs": [],
   "source": [
    "train_guess = lasso_model.predict(X_train)"
   ]
  },
  {
   "cell_type": "code",
   "execution_count": 25,
   "metadata": {},
   "outputs": [
    {
     "name": "stdout",
     "output_type": "stream",
     "text": [
      "R^2 is :                   0.26403762312889745\n",
      "Adjusted R2 is :           0.17467076308026352\n",
      "MSE is :                   14.126430453529519\n",
      "Mean absolute error is :   2.591126516516914\n",
      "Median absolute error is : 1.7132092841564681\n"
     ]
    }
   ],
   "source": [
    "linear_reg_summary(final_data,y_train,train_guess)"
   ]
  },
  {
   "cell_type": "code",
   "execution_count": 26,
   "metadata": {},
   "outputs": [],
   "source": [
    "test_guess = lasso_model.predict(X_test)"
   ]
  },
  {
   "cell_type": "code",
   "execution_count": 27,
   "metadata": {},
   "outputs": [
    {
     "name": "stdout",
     "output_type": "stream",
     "text": [
      "R^2 is :                   0.006036319301416682\n",
      "Adjusted R2 is :           -0.11465927049769697\n",
      "MSE is :                   9.154095960371452\n",
      "Mean absolute error is :   2.3687474811957214\n",
      "Median absolute error is : 2.094771217313612\n"
     ]
    }
   ],
   "source": [
    "linear_reg_summary(final_data,y_test,test_guess)"
   ]
  },
  {
   "cell_type": "code",
   "execution_count": 28,
   "metadata": {},
   "outputs": [
    {
     "name": "stdout",
     "output_type": "stream",
     "text": [
      "retail_and_recreation_percent_change_from_baseline: -0.0\n",
      "grocery_and_pharmacy_percent_change_from_baseline: 0.0\n",
      "parks_percent_change_from_baseline: -0.01065656762645605\n",
      "transit_stations_percent_change_from_baseline: -0.0\n",
      "workplaces_percent_change_from_baseline: -0.201821282645783\n",
      "residential_percent_change_from_baseline: 0.0\n",
      "positiveIncrease: -0.0026800551156664007\n",
      "totalTestResultsIncrease: 0.0014697704498972432\n",
      "deathIncrease: 0.0\n",
      "hospitalizedIncrease: -0.01090473437089133\n"
     ]
    }
   ],
   "source": [
    "# lasso_model.coef_\n",
    "\n",
    "for i in range(len(features)):\n",
    "    print(\"{}: {}\".format(features[i], lasso_model.coef_[i]))"
   ]
  },
  {
   "cell_type": "markdown",
   "metadata": {},
   "source": [
    "x axis penalization strength\n",
    "y axis some performance metric (mse, misclassification rate)\n",
    "2 lines: one one train one on test"
   ]
  },
  {
   "cell_type": "markdown",
   "metadata": {},
   "source": [
    "## Ridge"
   ]
  },
  {
   "cell_type": "code",
   "execution_count": 29,
   "metadata": {},
   "outputs": [],
   "source": [
    "# Y = final_data['Unemployment Rate (S)'].to_numpy()\n",
    "# X = final_data.drop(columns = ['date','state','Unemployment Rate (S)','Unemployment Rate Change','Population']).to_numpy()\n",
    "\n",
    "# X_train, X_test, y_train, y_test = train_test_split(X, Y, test_size=.2, random_state=0)"
   ]
  },
  {
   "cell_type": "code",
   "execution_count": 30,
   "metadata": {},
   "outputs": [
    {
     "data": {
      "text/plain": [
       "Ridge(alpha=10000, copy_X=True, fit_intercept=True, max_iter=None,\n",
       "      normalize=False, random_state=None, solver='auto', tol=0.001)"
      ]
     },
     "execution_count": 30,
     "metadata": {},
     "output_type": "execute_result"
    }
   ],
   "source": [
    "ridge_model = Ridge(alpha = 10000)\n",
    "\n",
    "ridge_model.fit(X_train, y_train)"
   ]
  },
  {
   "cell_type": "code",
   "execution_count": 31,
   "metadata": {},
   "outputs": [
    {
     "name": "stdout",
     "output_type": "stream",
     "text": [
      "R^2 is :                   0.21743815719086335\n",
      "Adjusted R2 is :           0.12241279056403964\n",
      "MSE is :                   15.020883941143804\n",
      "Mean absolute error is :   2.700077639841592\n",
      "Median absolute error is : 1.8527418816145627\n"
     ]
    }
   ],
   "source": [
    "train_guess = ridge_model.predict(X_train)\n",
    "\n",
    "linear_reg_summary(final_data,y_train,train_guess)"
   ]
  },
  {
   "cell_type": "code",
   "execution_count": 32,
   "metadata": {},
   "outputs": [
    {
     "name": "stdout",
     "output_type": "stream",
     "text": [
      "R^2 is :                   0.036075600073361636\n",
      "Adjusted R2 is :           -0.08097236277487307\n",
      "MSE is :                   8.877443539255157\n",
      "Mean absolute error is :   2.3410360645541264\n",
      "Median absolute error is : 1.91920939249799\n"
     ]
    }
   ],
   "source": [
    "test_guess = ridge_model.predict(X_test)\n",
    "\n",
    "linear_reg_summary(final_data,y_test,test_guess)"
   ]
  },
  {
   "cell_type": "code",
   "execution_count": 33,
   "metadata": {},
   "outputs": [
    {
     "name": "stdout",
     "output_type": "stream",
     "text": [
      "retail_and_recreation_percent_change_from_baseline: -0.024611174086599595\n",
      "grocery_and_pharmacy_percent_change_from_baseline: -0.008413293041217929\n",
      "parks_percent_change_from_baseline: -0.011526358407898845\n",
      "transit_stations_percent_change_from_baseline: -0.028971222514012483\n",
      "workplaces_percent_change_from_baseline: -0.06229975193095538\n",
      "residential_percent_change_from_baseline: 0.02057362917232894\n",
      "positiveIncrease: -0.009979557853942417\n",
      "totalTestResultsIncrease: 0.0038680535438911116\n",
      "deathIncrease: 0.003259395464246498\n",
      "hospitalizedIncrease: -0.01271488495442646\n"
     ]
    }
   ],
   "source": [
    "for i in range(len(features)):\n",
    "    print(\"{}: {}\".format(features[i], ridge_model.coef_[i]))"
   ]
  },
  {
   "cell_type": "code",
   "execution_count": null,
   "metadata": {},
   "outputs": [],
   "source": []
  },
  {
   "cell_type": "markdown",
   "metadata": {},
   "source": [
    "## Logistic Regression"
   ]
  },
  {
   "cell_type": "code",
   "execution_count": 34,
   "metadata": {},
   "outputs": [],
   "source": [
    "# Y = final_data['Unemployment Rate Change'].to_numpy()\n",
    "# X = final_data.drop(columns = ['date','state','Unemployment Rate (S)','Unemployment Rate Change','Population']).to_numpy()\n",
    "\n",
    "# X_train, X_test, y_train, y_test = train_test_split(X, Y, test_size=.2, random_state=0)"
   ]
  },
  {
   "cell_type": "code",
   "execution_count": 35,
   "metadata": {},
   "outputs": [],
   "source": [
    "y_train = train_data['Unemployment Rate Change']\n",
    "y_test = test_data['Unemployment Rate Change']"
   ]
  },
  {
   "cell_type": "code",
   "execution_count": 36,
   "metadata": {},
   "outputs": [
    {
     "data": {
      "text/plain": [
       "LogisticRegression(C=1.0, class_weight=None, dual=False, fit_intercept=True,\n",
       "                   intercept_scaling=1, l1_ratio=None, max_iter=1000,\n",
       "                   multi_class='auto', n_jobs=None, penalty='l2',\n",
       "                   random_state=None, solver='lbfgs', tol=0.0001, verbose=0,\n",
       "                   warm_start=False)"
      ]
     },
     "execution_count": 36,
     "metadata": {},
     "output_type": "execute_result"
    }
   ],
   "source": [
    "# Increase max_iter??\n",
    "log_model = LogisticRegression(max_iter=1000)\n",
    "\n",
    "log_model.fit(X_train, y_train)"
   ]
  },
  {
   "cell_type": "code",
   "execution_count": 37,
   "metadata": {},
   "outputs": [],
   "source": [
    "train_guess = log_model.predict(X_train)"
   ]
  },
  {
   "cell_type": "code",
   "execution_count": 38,
   "metadata": {},
   "outputs": [
    {
     "name": "stdout",
     "output_type": "stream",
     "text": [
      "Accuracy score is : 0.9065420560747663\n",
      "Precision score is : 0.9333333333333333\n",
      "Recall score is : 0.9032258064516129\n",
      "F1 score is : 0.9180327868852459\n",
      "ROC AUC is : 0.907168458781362\n"
     ]
    }
   ],
   "source": [
    "log_reg_summary(y_train,train_guess)"
   ]
  },
  {
   "cell_type": "code",
   "execution_count": 39,
   "metadata": {},
   "outputs": [],
   "source": [
    "test_guess = log_model.predict(X_test)"
   ]
  },
  {
   "cell_type": "code",
   "execution_count": 40,
   "metadata": {},
   "outputs": [
    {
     "name": "stdout",
     "output_type": "stream",
     "text": [
      "Accuracy score is : 0.8235294117647058\n",
      "Precision score is : 0.25\n",
      "Recall score is : 0.14285714285714285\n",
      "F1 score is : 0.18181818181818182\n",
      "ROC AUC is : 0.5373376623376623\n"
     ]
    }
   ],
   "source": [
    "log_reg_summary(y_test,test_guess)"
   ]
  },
  {
   "cell_type": "code",
   "execution_count": 41,
   "metadata": {
    "scrolled": true
   },
   "outputs": [
    {
     "name": "stdout",
     "output_type": "stream",
     "text": [
      "Accuracy score is : 0.8627450980392157\n",
      "Precision score is : 0.0\n",
      "Recall score is : 0.0\n",
      "F1 score is : 0.0\n",
      "ROC AUC is : 0.5\n"
     ]
    },
    {
     "name": "stderr",
     "output_type": "stream",
     "text": [
      "/Users/samirsingh/anaconda3/lib/python3.7/site-packages/sklearn/metrics/_classification.py:1272: UndefinedMetricWarning: Precision is ill-defined and being set to 0.0 due to no predicted samples. Use `zero_division` parameter to control this behavior.\n",
      "  _warn_prf(average, modifier, msg_start, len(result))\n"
     ]
    }
   ],
   "source": [
    "null_pred = np.zeros(len(y_test))\n",
    "log_reg_summary(y_test, null_pred)\n",
    "#print(null_pred)"
   ]
  },
  {
   "cell_type": "markdown",
   "metadata": {},
   "source": [
    "## Logisitic with L1 Penalty"
   ]
  },
  {
   "cell_type": "code",
   "execution_count": 42,
   "metadata": {},
   "outputs": [
    {
     "data": {
      "text/plain": [
       "LogisticRegression(C=1.0, class_weight=None, dual=False, fit_intercept=True,\n",
       "                   intercept_scaling=1, l1_ratio=None, max_iter=1000,\n",
       "                   multi_class='auto', n_jobs=None, penalty='l1',\n",
       "                   random_state=None, solver='liblinear', tol=0.0001, verbose=0,\n",
       "                   warm_start=False)"
      ]
     },
     "execution_count": 42,
     "metadata": {},
     "output_type": "execute_result"
    }
   ],
   "source": [
    "log_l1_model = LogisticRegression(max_iter=1000,penalty='l1',solver='liblinear')\n",
    "\n",
    "log_l1_model.fit(X_train, y_train)"
   ]
  },
  {
   "cell_type": "code",
   "execution_count": 43,
   "metadata": {},
   "outputs": [],
   "source": [
    "train_guess = log_l1_model.predict(X_train)"
   ]
  },
  {
   "cell_type": "code",
   "execution_count": 44,
   "metadata": {},
   "outputs": [
    {
     "name": "stdout",
     "output_type": "stream",
     "text": [
      "Accuracy score is : 0.9158878504672897\n",
      "Precision score is : 0.9344262295081968\n",
      "Recall score is : 0.9193548387096774\n",
      "F1 score is : 0.9268292682926829\n",
      "ROC AUC is : 0.9152329749103943\n"
     ]
    }
   ],
   "source": [
    "log_reg_summary(y_train,train_guess)"
   ]
  },
  {
   "cell_type": "code",
   "execution_count": 45,
   "metadata": {},
   "outputs": [],
   "source": [
    "test_guess = log_l1_model.predict(X_test)"
   ]
  },
  {
   "cell_type": "code",
   "execution_count": 46,
   "metadata": {},
   "outputs": [
    {
     "name": "stdout",
     "output_type": "stream",
     "text": [
      "Accuracy score is : 0.8431372549019608\n",
      "Precision score is : 0.3333333333333333\n",
      "Recall score is : 0.14285714285714285\n",
      "F1 score is : 0.2\n",
      "ROC AUC is : 0.5487012987012987\n"
     ]
    }
   ],
   "source": [
    "log_reg_summary(y_test,test_guess)"
   ]
  },
  {
   "cell_type": "markdown",
   "metadata": {},
   "source": [
    "## Logistic with L2 Penalty"
   ]
  },
  {
   "cell_type": "code",
   "execution_count": 47,
   "metadata": {},
   "outputs": [
    {
     "data": {
      "text/plain": [
       "LogisticRegression(C=1.0, class_weight=None, dual=False, fit_intercept=True,\n",
       "                   intercept_scaling=1, l1_ratio=None, max_iter=1000,\n",
       "                   multi_class='auto', n_jobs=None, penalty='l2',\n",
       "                   random_state=None, solver='liblinear', tol=0.0001, verbose=0,\n",
       "                   warm_start=False)"
      ]
     },
     "execution_count": 47,
     "metadata": {},
     "output_type": "execute_result"
    }
   ],
   "source": [
    "log_l2_model = LogisticRegression(max_iter=1000,penalty='l2',solver='liblinear')\n",
    "\n",
    "log_l2_model.fit(X_train, y_train)"
   ]
  },
  {
   "cell_type": "code",
   "execution_count": 48,
   "metadata": {},
   "outputs": [],
   "source": [
    "train_guess = log_l2_model.predict(X_train)"
   ]
  },
  {
   "cell_type": "code",
   "execution_count": 49,
   "metadata": {},
   "outputs": [
    {
     "name": "stdout",
     "output_type": "stream",
     "text": [
      "Accuracy score is : 0.9158878504672897\n",
      "Precision score is : 0.9344262295081968\n",
      "Recall score is : 0.9193548387096774\n",
      "F1 score is : 0.9268292682926829\n",
      "ROC AUC is : 0.9152329749103943\n"
     ]
    }
   ],
   "source": [
    "log_reg_summary(y_train,train_guess)"
   ]
  },
  {
   "cell_type": "code",
   "execution_count": 50,
   "metadata": {},
   "outputs": [],
   "source": [
    "test_guess = log_l2_model.predict(X_test)"
   ]
  },
  {
   "cell_type": "code",
   "execution_count": 51,
   "metadata": {},
   "outputs": [
    {
     "name": "stdout",
     "output_type": "stream",
     "text": [
      "Accuracy score is : 0.8627450980392157\n",
      "Precision score is : 0.5\n",
      "Recall score is : 0.2857142857142857\n",
      "F1 score is : 0.36363636363636365\n",
      "ROC AUC is : 0.6201298701298701\n"
     ]
    }
   ],
   "source": [
    "log_reg_summary(y_test,test_guess)"
   ]
  },
  {
   "cell_type": "code",
   "execution_count": 52,
   "metadata": {},
   "outputs": [
    {
     "name": "stdout",
     "output_type": "stream",
     "text": [
      "retail_and_recreation_percent_change_from_baseline: -0.2519972030698643\n",
      "grocery_and_pharmacy_percent_change_from_baseline: -0.0825489815958449\n",
      "parks_percent_change_from_baseline: -0.0003744009968308196\n",
      "transit_stations_percent_change_from_baseline: 0.07802753790556845\n",
      "workplaces_percent_change_from_baseline: 0.38490890480198825\n",
      "residential_percent_change_from_baseline: 0.671764828738256\n",
      "positiveIncrease: -0.13436102263723396\n",
      "totalTestResultsIncrease: 0.0020325188834634258\n",
      "deathIncrease: -0.05044995082545658\n",
      "hospitalizedIncrease: 0.29902532816043814\n"
     ]
    }
   ],
   "source": [
    "for i in range(len(features)):\n",
    "    print(\"{}: {}\".format(features[i], log_l2_model.coef_[0][i]))\n",
    "    "
   ]
  },
  {
   "cell_type": "code",
   "execution_count": null,
   "metadata": {},
   "outputs": [],
   "source": []
  },
  {
   "cell_type": "code",
   "execution_count": null,
   "metadata": {},
   "outputs": [],
   "source": []
  }
 ],
 "metadata": {
  "kernelspec": {
   "display_name": "Python 3",
   "language": "python",
   "name": "python3"
  },
  "language_info": {
   "codemirror_mode": {
    "name": "ipython",
    "version": 3
   },
   "file_extension": ".py",
   "mimetype": "text/x-python",
   "name": "python",
   "nbconvert_exporter": "python",
   "pygments_lexer": "ipython3",
   "version": "3.7.6"
  }
 },
 "nbformat": 4,
 "nbformat_minor": 4
}
